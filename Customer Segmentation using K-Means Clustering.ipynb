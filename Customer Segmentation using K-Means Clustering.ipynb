{
 "cells": [
  {
   "cell_type": "markdown",
   "id": "bb785985-9f5e-41e7-9f72-c20683cbe70b",
   "metadata": {},
   "source": [
    "**K-means clustering** is a type of unsupervised machine learning algorithm used to partition data into groups or clusters. Each cluster contains data points that are more similar to each other than to those in other clusters. The goal is to minimize the variance within each cluster while maximizing the variance between clusters.\n",
    "\n",
    "### **Key Concepts of K-means Clustering:**\n",
    "\n",
    "1. **K (Number of Clusters):**\n",
    "   - You need to define the number of clusters (K) before running the algorithm. This is a parameter you specify based on your analysis or using methods like the **elbow method** to find the optimal number of clusters.\n",
    "\n",
    "2. **Centroids:**\n",
    "   - The K-means algorithm works by assigning each data point to a cluster based on the distance to a **centroid** (the central point of the cluster). Initially, centroids are randomly assigned, and then they are iteratively updated.\n",
    "\n",
    "3. **Steps in K-means Clustering:**\n",
    "   - **Step 1:** Initialize the centroids randomly or by some other method.\n",
    "   - **Step 2:** Assign each data point to the nearest centroid. This forms clusters.\n",
    "   - **Step 3:** Recalculate the centroids of each cluster as the mean of all the points assigned to that cluster.\n",
    "   - **Step 4:** Repeat steps 2 and 3 until the centroids no longer change or the algorithm converges.\n",
    "\n",
    "4. **Objective:**\n",
    "   - The objective of K-means is to minimize the **within-cluster variance**, which is the average squared distance between data points and their corresponding centroid. This helps ensure that the points within each cluster are as similar as possible.\n",
    "\n",
    "### **How K-means Works in Practice:**\n",
    "1. **Initialization:**\n",
    "   - Choose **K** initial centroids (usually at random or by selecting points from the dataset).\n",
    "   \n",
    "2. **Cluster Assignment:**\n",
    "   - For each data point, calculate the distance from the point to each centroid. Assign the point to the cluster whose centroid is closest to it.\n",
    "\n",
    "3. **Centroid Update:**\n",
    "   - After all points are assigned to clusters, update the centroids by calculating the mean of all points within each cluster.\n",
    "\n",
    "4. **Repeat:**\n",
    "   - Repeat the assignment and centroid update steps until the centroids stabilize (i.e., no longer change significantly), or a set number of iterations is reached.\n",
    "\n",
    "### **Advantages of K-means:**\n",
    "- **Scalability:** K-means can handle large datasets efficiently.\n",
    "- **Simplicity:** The algorithm is relatively easy to understand and implement.\n",
    "- **Speed:** With fewer clusters, K-means can converge quickly, especially with a well-chosen initialization.\n",
    "\n",
    "### **Disadvantages of K-means:**\n",
    "- **Choosing K:** The user must specify the number of clusters in advance, which can be tricky without prior knowledge of the data.\n",
    "- **Sensitivity to Initialization:** The algorithm may converge to different results depending on the initial centroids. However, using methods like **K-means++** for initialization can improve stability.\n",
    "- **Sensitivity to Outliers:** K-means is sensitive to outliers because the centroids are based on the mean, which can be distorted by extreme values.\n",
    "\n",
    "### **Applications of K-means:**\n",
    "- **Customer Segmentation:** Grouping customers based on behavior, demographics, or purchasing patterns.\n",
    "- **Image Compression:** Reducing the number of colors in an image by clustering similar colors.\n",
    "- **Document Clustering:** Grouping documents with similar topics or content.\n",
    "- **Anomaly Detection:** Identifying unusual data points that don’t belong to any cluster.\n",
    "\n",
    "### **Example:**\n",
    "If you have a dataset of customer spending and income, you can use K-means clustering to group customers into segments based on their spending and income patterns. Each group can represent a different customer type, such as low-income, high-spending customers or high-income, low-spending customers.\n"
   ]
  },
  {
   "cell_type": "code",
   "execution_count": 3,
   "id": "546fe5e8-b1d0-4c8f-9061-0acf4974d647",
   "metadata": {},
   "outputs": [],
   "source": [
    "# IMPORTING DEPENDENCIES"
   ]
  },
  {
   "cell_type": "code",
   "execution_count": 4,
   "id": "e6769dc0-ac92-441f-80fe-7e0d508a75b9",
   "metadata": {},
   "outputs": [],
   "source": [
    "import pandas as pd\n",
    "import numpy as np\n",
    "import matplotlib.pyplot as plt\n",
    "import seaborn as sns\n",
    "from sklearn.cluster import KMeans"
   ]
  },
  {
   "cell_type": "code",
   "execution_count": 7,
   "id": "8cc772ab-02f3-4c42-831b-25bd970d92c1",
   "metadata": {},
   "outputs": [],
   "source": [
    "# loading the data from the csv file into the Pandas dataframe\n",
    "customer_data = pd.read_csv(\"Mall_Customers.csv\")"
   ]
  },
  {
   "cell_type": "code",
   "execution_count": 9,
   "id": "7c22eeab-cd47-4daf-85d9-f02ad5d4cedc",
   "metadata": {},
   "outputs": [
    {
     "data": {
      "text/html": [
       "<div>\n",
       "<style scoped>\n",
       "    .dataframe tbody tr th:only-of-type {\n",
       "        vertical-align: middle;\n",
       "    }\n",
       "\n",
       "    .dataframe tbody tr th {\n",
       "        vertical-align: top;\n",
       "    }\n",
       "\n",
       "    .dataframe thead th {\n",
       "        text-align: right;\n",
       "    }\n",
       "</style>\n",
       "<table border=\"1\" class=\"dataframe\">\n",
       "  <thead>\n",
       "    <tr style=\"text-align: right;\">\n",
       "      <th></th>\n",
       "      <th>CustomerID</th>\n",
       "      <th>Gender</th>\n",
       "      <th>Age</th>\n",
       "      <th>Annual Income (k$)</th>\n",
       "      <th>Spending Score (1-100)</th>\n",
       "    </tr>\n",
       "  </thead>\n",
       "  <tbody>\n",
       "    <tr>\n",
       "      <th>0</th>\n",
       "      <td>1</td>\n",
       "      <td>Male</td>\n",
       "      <td>19</td>\n",
       "      <td>15</td>\n",
       "      <td>39</td>\n",
       "    </tr>\n",
       "    <tr>\n",
       "      <th>1</th>\n",
       "      <td>2</td>\n",
       "      <td>Male</td>\n",
       "      <td>21</td>\n",
       "      <td>15</td>\n",
       "      <td>81</td>\n",
       "    </tr>\n",
       "    <tr>\n",
       "      <th>2</th>\n",
       "      <td>3</td>\n",
       "      <td>Female</td>\n",
       "      <td>20</td>\n",
       "      <td>16</td>\n",
       "      <td>6</td>\n",
       "    </tr>\n",
       "    <tr>\n",
       "      <th>3</th>\n",
       "      <td>4</td>\n",
       "      <td>Female</td>\n",
       "      <td>23</td>\n",
       "      <td>16</td>\n",
       "      <td>77</td>\n",
       "    </tr>\n",
       "    <tr>\n",
       "      <th>4</th>\n",
       "      <td>5</td>\n",
       "      <td>Female</td>\n",
       "      <td>31</td>\n",
       "      <td>17</td>\n",
       "      <td>40</td>\n",
       "    </tr>\n",
       "  </tbody>\n",
       "</table>\n",
       "</div>"
      ],
      "text/plain": [
       "   CustomerID  Gender  Age  Annual Income (k$)  Spending Score (1-100)\n",
       "0           1    Male   19                  15                      39\n",
       "1           2    Male   21                  15                      81\n",
       "2           3  Female   20                  16                       6\n",
       "3           4  Female   23                  16                      77\n",
       "4           5  Female   31                  17                      40"
      ]
     },
     "execution_count": 9,
     "metadata": {},
     "output_type": "execute_result"
    }
   ],
   "source": [
    "# first 5 rows of the dataframe\n",
    "customer_data.head()"
   ]
  },
  {
   "cell_type": "code",
   "execution_count": 10,
   "id": "cd908629-74d7-4c79-9afa-920b4c339a70",
   "metadata": {},
   "outputs": [
    {
     "data": {
      "text/plain": [
       "(200, 5)"
      ]
     },
     "execution_count": 10,
     "metadata": {},
     "output_type": "execute_result"
    }
   ],
   "source": [
    "# finding the number of rows and columns\n",
    "customer_data.shape"
   ]
  },
  {
   "cell_type": "code",
   "execution_count": 12,
   "id": "f5b97ffc-7e16-4627-8423-ab6315cba4a9",
   "metadata": {},
   "outputs": [
    {
     "data": {
      "text/plain": [
       "<bound method DataFrame.info of      CustomerID  Gender  Age  Annual Income (k$)  Spending Score (1-100)\n",
       "0             1    Male   19                  15                      39\n",
       "1             2    Male   21                  15                      81\n",
       "2             3  Female   20                  16                       6\n",
       "3             4  Female   23                  16                      77\n",
       "4             5  Female   31                  17                      40\n",
       "..          ...     ...  ...                 ...                     ...\n",
       "195         196  Female   35                 120                      79\n",
       "196         197  Female   45                 126                      28\n",
       "197         198    Male   32                 126                      74\n",
       "198         199    Male   32                 137                      18\n",
       "199         200    Male   30                 137                      83\n",
       "\n",
       "[200 rows x 5 columns]>"
      ]
     },
     "execution_count": 12,
     "metadata": {},
     "output_type": "execute_result"
    }
   ],
   "source": [
    "# getting some information about the dataset\n",
    "customer_data.info"
   ]
  },
  {
   "cell_type": "code",
   "execution_count": 13,
   "id": "cc431dfd-70cc-45b2-94a5-be2ab196e40b",
   "metadata": {},
   "outputs": [
    {
     "data": {
      "text/plain": [
       "CustomerID                0\n",
       "Gender                    0\n",
       "Age                       0\n",
       "Annual Income (k$)        0\n",
       "Spending Score (1-100)    0\n",
       "dtype: int64"
      ]
     },
     "execution_count": 13,
     "metadata": {},
     "output_type": "execute_result"
    }
   ],
   "source": [
    "# checking for missing values\n",
    "customer_data.isnull().sum()"
   ]
  },
  {
   "cell_type": "code",
   "execution_count": 19,
   "id": "b627b463-93be-49d8-a875-14ebe044b8a2",
   "metadata": {},
   "outputs": [],
   "source": [
    "# choosing the annual income column and spending score column\n",
    "X = customer_data.iloc[:,[3,4]].values"
   ]
  },
  {
   "cell_type": "code",
   "execution_count": 20,
   "id": "fa740cbd-2eb6-4e22-bf64-aad2218b58fa",
   "metadata": {
    "scrolled": true
   },
   "outputs": [
    {
     "name": "stdout",
     "output_type": "stream",
     "text": [
      "[[ 15  39]\n",
      " [ 15  81]\n",
      " [ 16   6]\n",
      " [ 16  77]\n",
      " [ 17  40]\n",
      " [ 17  76]\n",
      " [ 18   6]\n",
      " [ 18  94]\n",
      " [ 19   3]\n",
      " [ 19  72]\n",
      " [ 19  14]\n",
      " [ 19  99]\n",
      " [ 20  15]\n",
      " [ 20  77]\n",
      " [ 20  13]\n",
      " [ 20  79]\n",
      " [ 21  35]\n",
      " [ 21  66]\n",
      " [ 23  29]\n",
      " [ 23  98]\n",
      " [ 24  35]\n",
      " [ 24  73]\n",
      " [ 25   5]\n",
      " [ 25  73]\n",
      " [ 28  14]\n",
      " [ 28  82]\n",
      " [ 28  32]\n",
      " [ 28  61]\n",
      " [ 29  31]\n",
      " [ 29  87]\n",
      " [ 30   4]\n",
      " [ 30  73]\n",
      " [ 33   4]\n",
      " [ 33  92]\n",
      " [ 33  14]\n",
      " [ 33  81]\n",
      " [ 34  17]\n",
      " [ 34  73]\n",
      " [ 37  26]\n",
      " [ 37  75]\n",
      " [ 38  35]\n",
      " [ 38  92]\n",
      " [ 39  36]\n",
      " [ 39  61]\n",
      " [ 39  28]\n",
      " [ 39  65]\n",
      " [ 40  55]\n",
      " [ 40  47]\n",
      " [ 40  42]\n",
      " [ 40  42]\n",
      " [ 42  52]\n",
      " [ 42  60]\n",
      " [ 43  54]\n",
      " [ 43  60]\n",
      " [ 43  45]\n",
      " [ 43  41]\n",
      " [ 44  50]\n",
      " [ 44  46]\n",
      " [ 46  51]\n",
      " [ 46  46]\n",
      " [ 46  56]\n",
      " [ 46  55]\n",
      " [ 47  52]\n",
      " [ 47  59]\n",
      " [ 48  51]\n",
      " [ 48  59]\n",
      " [ 48  50]\n",
      " [ 48  48]\n",
      " [ 48  59]\n",
      " [ 48  47]\n",
      " [ 49  55]\n",
      " [ 49  42]\n",
      " [ 50  49]\n",
      " [ 50  56]\n",
      " [ 54  47]\n",
      " [ 54  54]\n",
      " [ 54  53]\n",
      " [ 54  48]\n",
      " [ 54  52]\n",
      " [ 54  42]\n",
      " [ 54  51]\n",
      " [ 54  55]\n",
      " [ 54  41]\n",
      " [ 54  44]\n",
      " [ 54  57]\n",
      " [ 54  46]\n",
      " [ 57  58]\n",
      " [ 57  55]\n",
      " [ 58  60]\n",
      " [ 58  46]\n",
      " [ 59  55]\n",
      " [ 59  41]\n",
      " [ 60  49]\n",
      " [ 60  40]\n",
      " [ 60  42]\n",
      " [ 60  52]\n",
      " [ 60  47]\n",
      " [ 60  50]\n",
      " [ 61  42]\n",
      " [ 61  49]\n",
      " [ 62  41]\n",
      " [ 62  48]\n",
      " [ 62  59]\n",
      " [ 62  55]\n",
      " [ 62  56]\n",
      " [ 62  42]\n",
      " [ 63  50]\n",
      " [ 63  46]\n",
      " [ 63  43]\n",
      " [ 63  48]\n",
      " [ 63  52]\n",
      " [ 63  54]\n",
      " [ 64  42]\n",
      " [ 64  46]\n",
      " [ 65  48]\n",
      " [ 65  50]\n",
      " [ 65  43]\n",
      " [ 65  59]\n",
      " [ 67  43]\n",
      " [ 67  57]\n",
      " [ 67  56]\n",
      " [ 67  40]\n",
      " [ 69  58]\n",
      " [ 69  91]\n",
      " [ 70  29]\n",
      " [ 70  77]\n",
      " [ 71  35]\n",
      " [ 71  95]\n",
      " [ 71  11]\n",
      " [ 71  75]\n",
      " [ 71   9]\n",
      " [ 71  75]\n",
      " [ 72  34]\n",
      " [ 72  71]\n",
      " [ 73   5]\n",
      " [ 73  88]\n",
      " [ 73   7]\n",
      " [ 73  73]\n",
      " [ 74  10]\n",
      " [ 74  72]\n",
      " [ 75   5]\n",
      " [ 75  93]\n",
      " [ 76  40]\n",
      " [ 76  87]\n",
      " [ 77  12]\n",
      " [ 77  97]\n",
      " [ 77  36]\n",
      " [ 77  74]\n",
      " [ 78  22]\n",
      " [ 78  90]\n",
      " [ 78  17]\n",
      " [ 78  88]\n",
      " [ 78  20]\n",
      " [ 78  76]\n",
      " [ 78  16]\n",
      " [ 78  89]\n",
      " [ 78   1]\n",
      " [ 78  78]\n",
      " [ 78   1]\n",
      " [ 78  73]\n",
      " [ 79  35]\n",
      " [ 79  83]\n",
      " [ 81   5]\n",
      " [ 81  93]\n",
      " [ 85  26]\n",
      " [ 85  75]\n",
      " [ 86  20]\n",
      " [ 86  95]\n",
      " [ 87  27]\n",
      " [ 87  63]\n",
      " [ 87  13]\n",
      " [ 87  75]\n",
      " [ 87  10]\n",
      " [ 87  92]\n",
      " [ 88  13]\n",
      " [ 88  86]\n",
      " [ 88  15]\n",
      " [ 88  69]\n",
      " [ 93  14]\n",
      " [ 93  90]\n",
      " [ 97  32]\n",
      " [ 97  86]\n",
      " [ 98  15]\n",
      " [ 98  88]\n",
      " [ 99  39]\n",
      " [ 99  97]\n",
      " [101  24]\n",
      " [101  68]\n",
      " [103  17]\n",
      " [103  85]\n",
      " [103  23]\n",
      " [103  69]\n",
      " [113   8]\n",
      " [113  91]\n",
      " [120  16]\n",
      " [120  79]\n",
      " [126  28]\n",
      " [126  74]\n",
      " [137  18]\n",
      " [137  83]]\n"
     ]
    }
   ],
   "source": [
    "print(X)"
   ]
  },
  {
   "cell_type": "markdown",
   "id": "e44aa32b-916e-4283-872d-087f7529302f",
   "metadata": {},
   "source": [
    "# WCSS - WTHIN CLUSTERS SUM OF SQUARES\n",
    "WCSS stands for Within-Cluster Sum of Squares. It is a metric used to evaluate the compactness of the clusters formed by a clustering algorithm, such as K-means. The WCSS measures the total variance within each cluster. The goal of clustering is to minimize the WCSS, as this would indicate that the data points within each cluster are as close to each other as possible.\n",
    "\n",
    "\n",
    "The WCSS is calculated as the sum of squared distances between each data point in a cluster and the centroid of that cluster.\n",
    " \n",
    "\n",
    "How is WCSS Used in K-means?\n",
    "In K-means clustering, WCSS is used to evaluate the compactness of the clusters. A lower WCSS value means that the clusters are tighter and more compact (i.e., the points in the cluster are closer to the centroid), whereas a higher WCSS value indicates that the points are spread out farther from the centroid.\n",
    "\n",
    "Elbow Method and WCSS:\n",
    "One of the common uses of WCSS is in the elbow method, which helps determine the optimal number of clusters (K) to use in K-means clustering.\n",
    "\n",
    "Elbow Method:\n",
    "For different values of K (number of clusters), you calculate the WCSS and plot it against K.\n",
    "As K increases, the WCSS decreases because more clusters result in more compact groups. However, after a certain point, the rate of decrease in WCSS slows down, forming an \"elbow\" in the plot.\n",
    "The point at which the rate of decrease starts to slow down significantly is considered the optimal number of clusters because adding more clusters beyond that point doesn’t provide significant improvements in the cluster quality.\n",
    "\n",
    "Example of WCSS Calculation:\n",
    "Suppose you have a dataset with 10 data points and you apply K-means clustering to partition them into 3 clusters. To calculate the WCSS:\n",
    "\n",
    "Find the centroid of each of the 3 clusters.\n",
    "Calculate the squared Euclidean distance from each point in a cluster to its respective centroid.\n",
    "Sum these squared distances for all points in the cluster.\n",
    "Repeat for all clusters.\n",
    "Sum the WCSS of all clusters to get the final WCSS value.\n",
    "Why is WCSS Important?\n",
    "Cluster Quality: WCSS gives an indication of how well the clustering algorithm has grouped the data. A low WCSS means that the clusters are tight and well-separated.\n",
    "Choosing K: As mentioned, WCSS helps determine the best value of K by finding the elbow point in the plot.\n"
   ]
  },
  {
   "cell_type": "code",
   "execution_count": 31,
   "id": "4909b4b5-c3bc-4d48-9847-301de2295c6e",
   "metadata": {},
   "outputs": [
    {
     "name": "stderr",
     "output_type": "stream",
     "text": [
      "C:\\ProgramData\\anaconda3\\Lib\\site-packages\\sklearn\\cluster\\_kmeans.py:870: FutureWarning: The default value of `n_init` will change from 10 to 'auto' in 1.4. Set the value of `n_init` explicitly to suppress the warning\n",
      "  warnings.warn(\n",
      "C:\\ProgramData\\anaconda3\\Lib\\site-packages\\sklearn\\cluster\\_kmeans.py:1382: UserWarning: KMeans is known to have a memory leak on Windows with MKL, when there are less chunks than available threads. You can avoid it by setting the environment variable OMP_NUM_THREADS=1.\n",
      "  warnings.warn(\n",
      "C:\\ProgramData\\anaconda3\\Lib\\site-packages\\sklearn\\cluster\\_kmeans.py:870: FutureWarning: The default value of `n_init` will change from 10 to 'auto' in 1.4. Set the value of `n_init` explicitly to suppress the warning\n",
      "  warnings.warn(\n",
      "C:\\ProgramData\\anaconda3\\Lib\\site-packages\\sklearn\\cluster\\_kmeans.py:1382: UserWarning: KMeans is known to have a memory leak on Windows with MKL, when there are less chunks than available threads. You can avoid it by setting the environment variable OMP_NUM_THREADS=1.\n",
      "  warnings.warn(\n",
      "C:\\ProgramData\\anaconda3\\Lib\\site-packages\\sklearn\\cluster\\_kmeans.py:870: FutureWarning: The default value of `n_init` will change from 10 to 'auto' in 1.4. Set the value of `n_init` explicitly to suppress the warning\n",
      "  warnings.warn(\n",
      "C:\\ProgramData\\anaconda3\\Lib\\site-packages\\sklearn\\cluster\\_kmeans.py:1382: UserWarning: KMeans is known to have a memory leak on Windows with MKL, when there are less chunks than available threads. You can avoid it by setting the environment variable OMP_NUM_THREADS=1.\n",
      "  warnings.warn(\n",
      "C:\\ProgramData\\anaconda3\\Lib\\site-packages\\sklearn\\cluster\\_kmeans.py:870: FutureWarning: The default value of `n_init` will change from 10 to 'auto' in 1.4. Set the value of `n_init` explicitly to suppress the warning\n",
      "  warnings.warn(\n",
      "C:\\ProgramData\\anaconda3\\Lib\\site-packages\\sklearn\\cluster\\_kmeans.py:1382: UserWarning: KMeans is known to have a memory leak on Windows with MKL, when there are less chunks than available threads. You can avoid it by setting the environment variable OMP_NUM_THREADS=1.\n",
      "  warnings.warn(\n",
      "C:\\ProgramData\\anaconda3\\Lib\\site-packages\\sklearn\\cluster\\_kmeans.py:870: FutureWarning: The default value of `n_init` will change from 10 to 'auto' in 1.4. Set the value of `n_init` explicitly to suppress the warning\n",
      "  warnings.warn(\n",
      "C:\\ProgramData\\anaconda3\\Lib\\site-packages\\sklearn\\cluster\\_kmeans.py:1382: UserWarning: KMeans is known to have a memory leak on Windows with MKL, when there are less chunks than available threads. You can avoid it by setting the environment variable OMP_NUM_THREADS=1.\n",
      "  warnings.warn(\n",
      "C:\\ProgramData\\anaconda3\\Lib\\site-packages\\sklearn\\cluster\\_kmeans.py:870: FutureWarning: The default value of `n_init` will change from 10 to 'auto' in 1.4. Set the value of `n_init` explicitly to suppress the warning\n",
      "  warnings.warn(\n",
      "C:\\ProgramData\\anaconda3\\Lib\\site-packages\\sklearn\\cluster\\_kmeans.py:1382: UserWarning: KMeans is known to have a memory leak on Windows with MKL, when there are less chunks than available threads. You can avoid it by setting the environment variable OMP_NUM_THREADS=1.\n",
      "  warnings.warn(\n",
      "C:\\ProgramData\\anaconda3\\Lib\\site-packages\\sklearn\\cluster\\_kmeans.py:870: FutureWarning: The default value of `n_init` will change from 10 to 'auto' in 1.4. Set the value of `n_init` explicitly to suppress the warning\n",
      "  warnings.warn(\n",
      "C:\\ProgramData\\anaconda3\\Lib\\site-packages\\sklearn\\cluster\\_kmeans.py:1382: UserWarning: KMeans is known to have a memory leak on Windows with MKL, when there are less chunks than available threads. You can avoid it by setting the environment variable OMP_NUM_THREADS=1.\n",
      "  warnings.warn(\n",
      "C:\\ProgramData\\anaconda3\\Lib\\site-packages\\sklearn\\cluster\\_kmeans.py:870: FutureWarning: The default value of `n_init` will change from 10 to 'auto' in 1.4. Set the value of `n_init` explicitly to suppress the warning\n",
      "  warnings.warn(\n",
      "C:\\ProgramData\\anaconda3\\Lib\\site-packages\\sklearn\\cluster\\_kmeans.py:1382: UserWarning: KMeans is known to have a memory leak on Windows with MKL, when there are less chunks than available threads. You can avoid it by setting the environment variable OMP_NUM_THREADS=1.\n",
      "  warnings.warn(\n",
      "C:\\ProgramData\\anaconda3\\Lib\\site-packages\\sklearn\\cluster\\_kmeans.py:870: FutureWarning: The default value of `n_init` will change from 10 to 'auto' in 1.4. Set the value of `n_init` explicitly to suppress the warning\n",
      "  warnings.warn(\n",
      "C:\\ProgramData\\anaconda3\\Lib\\site-packages\\sklearn\\cluster\\_kmeans.py:1382: UserWarning: KMeans is known to have a memory leak on Windows with MKL, when there are less chunks than available threads. You can avoid it by setting the environment variable OMP_NUM_THREADS=1.\n",
      "  warnings.warn(\n",
      "C:\\ProgramData\\anaconda3\\Lib\\site-packages\\sklearn\\cluster\\_kmeans.py:870: FutureWarning: The default value of `n_init` will change from 10 to 'auto' in 1.4. Set the value of `n_init` explicitly to suppress the warning\n",
      "  warnings.warn(\n",
      "C:\\ProgramData\\anaconda3\\Lib\\site-packages\\sklearn\\cluster\\_kmeans.py:1382: UserWarning: KMeans is known to have a memory leak on Windows with MKL, when there are less chunks than available threads. You can avoid it by setting the environment variable OMP_NUM_THREADS=1.\n",
      "  warnings.warn(\n"
     ]
    }
   ],
   "source": [
    "# finding wcss value for different number of clusters\n",
    "\n",
    "wcss = []\n",
    "for i in range(1,11):\n",
    "    kmeans = KMeans(n_clusters = i, init = 'k-means++', random_state = 42)\n",
    "    kmeans.fit(X)\n",
    "    wcss.append(kmeans.inertia_)"
   ]
  },
  {
   "cell_type": "code",
   "execution_count": 32,
   "id": "67ac4531-e2c7-4129-afe3-e89e2fac4fae",
   "metadata": {},
   "outputs": [
    {
     "name": "stdout",
     "output_type": "stream",
     "text": [
      "10\n"
     ]
    }
   ],
   "source": [
    "print(len(wcss))"
   ]
  },
  {
   "cell_type": "code",
   "execution_count": 33,
   "id": "9cc91463-6555-4bb0-ad84-dc95bf3bc079",
   "metadata": {},
   "outputs": [
    {
     "data": {
      "image/png": "[encoded data removed]",
      "text/plain": [
       "<Figure size 640x480 with 1 Axes>"
      ]
     },
     "metadata": {},
     "output_type": "display_data"
    }
   ],
   "source": [
    "# plot an elbow graph\n",
    "sns.set()\n",
    "plt.plot(range(1,11), wcss)\n",
    "plt.title(\"The Elbow Point Graph\")\n",
    "plt.xlabel(\"Number of clusters\")\n",
    "plt.ylabel(\"WCSS\")\n",
    "plt.show()"
   ]
  },
  {
   "cell_type": "code",
   "execution_count": 34,
   "id": "65eacc41-e3b0-4461-8882-55272569566f",
   "metadata": {},
   "outputs": [],
   "source": [
    "# Optimum number of clusters"
   ]
  },
  {
   "cell_type": "code",
   "execution_count": 35,
   "id": "c95621c5-5d2e-4e28-b811-cc18b2af330a",
   "metadata": {},
   "outputs": [
    {
     "name": "stderr",
     "output_type": "stream",
     "text": [
      "C:\\ProgramData\\anaconda3\\Lib\\site-packages\\sklearn\\cluster\\_kmeans.py:870: FutureWarning: The default value of `n_init` will change from 10 to 'auto' in 1.4. Set the value of `n_init` explicitly to suppress the warning\n",
      "  warnings.warn(\n",
      "C:\\ProgramData\\anaconda3\\Lib\\site-packages\\sklearn\\cluster\\_kmeans.py:1382: UserWarning: KMeans is known to have a memory leak on Windows with MKL, when there are less chunks than available threads. You can avoid it by setting the environment variable OMP_NUM_THREADS=1.\n",
      "  warnings.warn(\n"
     ]
    },
    {
     "name": "stdout",
     "output_type": "stream",
     "text": [
      "[4 3 4 3 4 3 4 3 4 3 4 3 4 3 4 3 4 3 4 3 4 3 4 3 4 3 4 3 4 3 4 3 4 3 4 3 4\n",
      " 3 4 3 4 3 4 1 4 3 1 1 1 1 1 1 1 1 1 1 1 1 1 1 1 1 1 1 1 1 1 1 1 1 1 1 1 1\n",
      " 1 1 1 1 1 1 1 1 1 1 1 1 1 1 1 1 1 1 1 1 1 1 1 1 1 1 1 1 1 1 1 1 1 1 1 1 1\n",
      " 1 1 1 1 1 1 1 1 1 1 1 1 2 0 2 1 2 0 2 0 2 1 2 0 2 0 2 0 2 0 2 1 2 0 2 0 2\n",
      " 0 2 0 2 0 2 0 2 0 2 0 2 0 2 0 2 0 2 0 2 0 2 0 2 0 2 0 2 0 2 0 2 0 2 0 2 0\n",
      " 2 0 2 0 2 0 2 0 2 0 2 0 2 0 2]\n"
     ]
    }
   ],
   "source": [
    "# Training the k-Means Clustering Model\n",
    "kmeans = KMeans(n_clusters = 5, init = 'k-means++', random_state = 0)\n",
    "\n",
    "# return a label for each data point in the cluster\n",
    "Y = kmeans.fit_predict(X)\n",
    "\n",
    "print(Y)"
   ]
  },
  {
   "cell_type": "code",
   "execution_count": 36,
   "id": "bfe7c6e6-7c21-43f6-9486-f139d75f1dda",
   "metadata": {},
   "outputs": [],
   "source": [
    "# 5 Clusters = 0,1,2,3,4"
   ]
  },
  {
   "cell_type": "code",
   "execution_count": 37,
   "id": "4549f6a2-b9e1-467e-9c79-17ccfd9a2bc1",
   "metadata": {},
   "outputs": [],
   "source": [
    "# Visualizing all the clusters"
   ]
  },
  {
   "cell_type": "code",
   "execution_count": 38,
   "id": "39e1c2af-b5af-48fb-874d-651637112358",
   "metadata": {},
   "outputs": [
    {
     "data": {
      "image/png": "[encoded data removed]",
      "text/plain": [
       "<Figure size 800x800 with 1 Axes>"
      ]
     },
     "metadata": {},
     "output_type": "display_data"
    }
   ],
   "source": [
    "# plotting all the clusters in their centroids\n",
    "plt.figure(figsize = (8,8))\n",
    "plt.scatter(X[Y == 0,0], X[Y == 0,1], s = 50, c = 'green', label = 'Cluster 1')\n",
    "plt.scatter(X[Y == 1,0], X[Y == 1,1], s = 50, c = 'red', label = 'Cluster 2')\n",
    "plt.scatter(X[Y == 2,0], X[Y == 2,1], s = 50, c = 'yellow', label = 'Cluster 3')\n",
    "plt.scatter(X[Y == 3,0], X[Y == 3,1], s = 50, c = 'violet', label = 'Cluster 4')\n",
    "plt.scatter(X[Y == 4,0], X[Y == 4,1], s = 50, c = 'blue', label = 'Cluster 5')\n",
    "\n",
    "# plotting the centroid\n",
    "plt.scatter(kmeans.cluster_centers_[:,0], kmeans.cluster_centers_[:,1], s = 100, c = 'cyan', label = 'Centroids')\n",
    "\n",
    "plt.title('Customer Groups')\n",
    "plt.xlabel('Annual Income')\n",
    "plt.ylabel('Spending Score')\n",
    "plt.show()"
   ]
  },
  {
   "cell_type": "code",
   "execution_count": null,
   "id": "d478c892-6010-4360-86fa-c99cc94eedeb",
   "metadata": {},
   "outputs": [],
   "source": [
    "# Absolutely! Based on the code snippet you provided and assuming the project involves customer segmentation using K-means clustering, here are some \n",
    "# insightful statements you could use to describe the findings:\n",
    "\n",
    "# ---\n",
    "\n",
    "# ### **Insights from Customer Segmentation using K-means Clustering:**\n",
    "\n",
    "# 1. **Distinct Customer Groups Identified:**\n",
    "#    - The clustering analysis successfully identified 5 distinct customer segments based on their annual income and spending score.\n",
    "#    - Each group represents a unique pattern of spending behavior and income level, which can help businesses target their marketing strategies more \n",
    "# effectively.\n",
    "\n",
    "# 2. **Centroids Represent Key Customer Profiles:**\n",
    "#    - The centroids of each cluster represent the average annual income and spending score of the customers within that group. These centroids can \n",
    "# act as the \"ideal\" customer profile for each segment.\n",
    "#    - For instance, Cluster 1 may represent customers with low income but high spending behavior, while Cluster 5 could represent high-income \n",
    "# customers with moderate spending.\n",
    "\n",
    "# 3. **Cluster 1: Budget-Conscious Spenders:**\n",
    "#    - Customers in Cluster 1 tend to have lower annual incomes but exhibit a higher spending score. This suggests they may prioritize spending in \n",
    "# specific areas or be highly engaged with certain products or services, despite having a limited budget.\n",
    "\n",
    "# 4. **Cluster 2: Moderate Income and Balanced Spending:**\n",
    "#    - Cluster 2 shows customers with moderate income levels who maintain a balanced approach to spending. This group could represent the middle-class \n",
    "# segment with stable financial behavior.\n",
    "\n",
    "# 5. **Cluster 3: High-Income, Low Spending:**\n",
    "#    - Customers in Cluster 3 exhibit high annual income but relatively low spending scores. This could indicate a more conservative financial \n",
    "# behavior, or customers who may be more selective in their purchases.\n",
    "\n",
    "# 6. **Cluster 4: Affluent, High-Spending Consumers:**\n",
    "#    - Cluster 4 represents customers with high income and high spending behavior, which suggests they are likely to be key targets for luxury or \n",
    "# premium products and services.\n",
    "\n",
    "# 7. **Cluster 5: Elite Spenders with Higher Income:**\n",
    "#    - Customers in Cluster 5 exhibit a combination of higher income and moderate spending. These customers may be considered high-value consumers \n",
    "# with significant purchasing power but selective in their spending.\n",
    "\n",
    "# 8. **Implications for Targeted Marketing:**\n",
    "#    - The segmentation analysis allows for more targeted marketing strategies. For example, businesses can offer discounts or loyalty programs for \n",
    "# Cluster 1 customers to encourage spending, or tailor exclusive offers to Cluster 4 and Cluster 5 for higher-end products.\n",
    "\n",
    "# 9. **Customer Behavior Patterns:**\n",
    "#    - The distribution of customers across clusters provides insight into spending patterns, helping businesses identify underserved groups or \n",
    "# those with untapped potential.\n",
    "\n",
    "# 10. **Potential for Product Differentiation:**\n",
    "#     - Understanding these clusters can assist in developing differentiated products or services for each customer segment. For example, \n",
    "#     offering budget-friendly options to Cluster 1 or exclusive deals to Cluster 4 could enhance customer satisfaction and loyalty.\n"
   ]
  }
 ],
 "metadata": {
  "kernelspec": {
   "display_name": "Python 3 (ipykernel)",
   "language": "python",
   "name": "python3"
  },
  "language_info": {
   "codemirror_mode": {
    "name": "ipython",
    "version": 3
   },
   "file_extension": ".py",
   "mimetype": "text/x-python",
   "name": "python",
   "nbconvert_exporter": "python",
   "pygments_lexer": "ipython3",
   "version": "3.11.7"
  }
 },
 "nbformat": 4,
 "nbformat_minor": 5
}
